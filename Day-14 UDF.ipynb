{
 "cells": [
  {
   "cell_type": "code",
   "execution_count": 0,
   "metadata": {
    "application/vnd.databricks.v1+cell": {
     "cellMetadata": {
      "byteLimit": 2048000,
      "rowLimit": 10000
     },
     "inputWidgets": {},
     "nuid": "999df073-875b-40ff-a6ed-185fdac382c4",
     "showTitle": false,
     "title": ""
    }
   },
   "outputs": [],
   "source": [
    "from pyspark.sql.functions import udf\n",
    "from pyspark.sql.types import StringType"
   ]
  },
  {
   "cell_type": "code",
   "execution_count": 0,
   "metadata": {
    "application/vnd.databricks.v1+cell": {
     "cellMetadata": {
      "byteLimit": 2048000,
      "rowLimit": 10000
     },
     "inputWidgets": {},
     "nuid": "4533204f-c500-4bc0-a31b-b967d1a5fdea",
     "showTitle": false,
     "title": ""
    }
   },
   "outputs": [],
   "source": [
    "def my_udf_function(value):\n",
    "    # Example logic: Convert value to uppercase\n",
    "    return value.upper()"
   ]
  },
  {
   "cell_type": "code",
   "execution_count": 0,
   "metadata": {
    "application/vnd.databricks.v1+cell": {
     "cellMetadata": {
      "byteLimit": 2048000,
      "rowLimit": 10000
     },
     "inputWidgets": {},
     "nuid": "37c7c936-c454-48b1-8ad3-1b219d535a0a",
     "showTitle": false,
     "title": ""
    }
   },
   "outputs": [],
   "source": [
    "udf_my_udf_function = udf(my_udf_function, StringType())"
   ]
  },
  {
   "cell_type": "code",
   "execution_count": 0,
   "metadata": {
    "application/vnd.databricks.v1+cell": {
     "cellMetadata": {
      "byteLimit": 2048000,
      "rowLimit": 10000
     },
     "inputWidgets": {},
     "nuid": "7fc960bf-0e96-47ed-a45b-af744eaee8de",
     "showTitle": false,
     "title": ""
    }
   },
   "outputs": [],
   "source": [
    "data = [(\"John\",), (\"Doe\",), (\"Alice\",)]\n",
    "df = spark.createDataFrame(data, [\"name\"])"
   ]
  },
  {
   "cell_type": "code",
   "execution_count": 0,
   "metadata": {
    "application/vnd.databricks.v1+cell": {
     "cellMetadata": {
      "byteLimit": 2048000,
      "rowLimit": 10000
     },
     "inputWidgets": {},
     "nuid": "75435604-baea-4fbe-8e6e-464811d29ee9",
     "showTitle": false,
     "title": ""
    }
   },
   "outputs": [
    {
     "output_type": "stream",
     "name": "stdout",
     "output_type": "stream",
     "text": [
      "+-----+----------+\n| name|new_column|\n+-----+----------+\n| John|      JOHN|\n|  Doe|       DOE|\n|Alice|     ALICE|\n+-----+----------+\n\n"
     ]
    }
   ],
   "source": [
    "# Assuming 'df' is your DataFrame and 'column_name' is the column you want to apply the UDF to\n",
    "df.withColumn(\"new_column\", udf_my_udf_function(df[\"name\"])).show()"
   ]
  },
  {
   "cell_type": "code",
   "execution_count": 0,
   "metadata": {
    "application/vnd.databricks.v1+cell": {
     "cellMetadata": {
      "byteLimit": 2048000,
      "rowLimit": 10000
     },
     "inputWidgets": {},
     "nuid": "6bb70f0c-4eaf-43e5-a805-c875e1eed5fe",
     "showTitle": false,
     "title": ""
    }
   },
   "outputs": [
    {
     "output_type": "stream",
     "name": "stdout",
     "output_type": "stream",
     "text": [
      "+-----+-----------+\n| name|udf_example|\n+-----+-----------+\n| John|       JOHN|\n|  Doe|        DOE|\n|Alice|      ALICE|\n+-----+-----------+\n\n"
     ]
    }
   ],
   "source": [
    "from pyspark.sql import SparkSession\n",
    "from pyspark.sql.functions import udf\n",
    "from pyspark.sql.types import StringType\n",
    "\n",
    "# Create SparkSession\n",
    "spark = SparkSession.builder \\\n",
    "    .appName(\"UDF Example\") \\\n",
    "    .getOrCreate()\n",
    "\n",
    "# Sample DataFrame\n",
    "data = [(\"John\",), (\"Doe\",), (\"Alice\",)]\n",
    "df = spark.createDataFrame(data, [\"name\"])\n",
    "\n",
    "# Define UDF\n",
    "def my_udf_function(value):\n",
    "    return value.upper()\n",
    "\n",
    "# Register UDF\n",
    "udf_my_udf_function = udf(my_udf_function, StringType())\n",
    "\n",
    "# Apply UDF\n",
    "df_with_udf = df.withColumn(\"udf_example\", udf_my_udf_function(df[\"name\"]))\n",
    "df_with_udf.show()\n"
   ]
  },
  {
   "cell_type": "code",
   "execution_count": 0,
   "metadata": {
    "application/vnd.databricks.v1+cell": {
     "cellMetadata": {},
     "inputWidgets": {},
     "nuid": "fcd7264d-2ace-46e7-aa59-784c0ba3193f",
     "showTitle": false,
     "title": ""
    }
   },
   "outputs": [],
   "source": []
  }
 ],
 "metadata": {
  "application/vnd.databricks.v1+notebook": {
   "dashboards": [],
   "language": "python",
   "notebookMetadata": {
    "pythonIndentUnit": 4
   },
   "notebookName": "Day-14 UDF",
   "widgets": {}
  }
 },
 "nbformat": 4,
 "nbformat_minor": 0
}
