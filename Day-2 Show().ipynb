{
 "cells": [
  {
   "cell_type": "code",
   "execution_count": 0,
   "metadata": {
    "application/vnd.databricks.v1+cell": {
     "cellMetadata": {
      "byteLimit": 2048000,
      "rowLimit": 10000
     },
     "inputWidgets": {},
     "nuid": "dec15b41-e08a-4381-85b5-696b78773541",
     "showTitle": true,
     "title": "Create Dataframe"
    }
   },
   "outputs": [
    {
     "output_type": "stream",
     "name": "stdout",
     "output_type": "stream",
     "text": [
      "+-----+--------------------+\n|Seqno|               Quote|\n+-----+--------------------+\n|    1|Be the change tha...|\n|    2|Everyone thinks o...|\n|    3|The purpose of ou...|\n|    4|            Be cool.|\n+-----+--------------------+\n\n"
     ]
    }
   ],
   "source": [
    "from pyspark.sql import SparkSession\n",
    "spark = SparkSession.builder.appName('SparkByExamples.com').getOrCreate()\n",
    "columns = [\"Seqno\",\"Quote\"]\n",
    "data = [(\"1\", \"Be the change that you wish to see in the world\"),\n",
    "    (\"2\", \"Everyone thinks of changing the world, but no one thinks of changing himself.\"),\n",
    "    (\"3\", \"The purpose of our lives is to be happy.\"),\n",
    "    (\"4\", \"Be cool.\")]\n",
    "df = spark.createDataFrame(data,columns)\n",
    "df.show()"
   ]
  },
  {
   "cell_type": "code",
   "execution_count": 0,
   "metadata": {
    "application/vnd.databricks.v1+cell": {
     "cellMetadata": {
      "byteLimit": 2048000,
      "rowLimit": 10000
     },
     "inputWidgets": {},
     "nuid": "449f7e1b-ceb5-4b88-9570-6281d27deed7",
     "showTitle": true,
     "title": "Display full column contents"
    }
   },
   "outputs": [
    {
     "output_type": "stream",
     "name": "stdout",
     "output_type": "stream",
     "text": [
      "+-----+-----------------------------------------------------------------------------+\n|Seqno|Quote                                                                        |\n+-----+-----------------------------------------------------------------------------+\n|1    |Be the change that you wish to see in the world                              |\n|2    |Everyone thinks of changing the world, but no one thinks of changing himself.|\n|3    |The purpose of our lives is to be happy.                                     |\n|4    |Be cool.                                                                     |\n+-----+-----------------------------------------------------------------------------+\n\n"
     ]
    }
   ],
   "source": [
    "df.show(truncate=False)"
   ]
  },
  {
   "cell_type": "code",
   "execution_count": 0,
   "metadata": {
    "application/vnd.databricks.v1+cell": {
     "cellMetadata": {
      "byteLimit": 2048000,
      "rowLimit": 10000
     },
     "inputWidgets": {},
     "nuid": "c119ee65-d63e-41f9-8de6-6f2802354041",
     "showTitle": true,
     "title": "Display 2 rows and full column contents"
    }
   },
   "outputs": [
    {
     "output_type": "stream",
     "name": "stdout",
     "output_type": "stream",
     "text": [
      "+-----+-----------------------------------------------------------------------------+\n|Seqno|Quote                                                                        |\n+-----+-----------------------------------------------------------------------------+\n|1    |Be the change that you wish to see in the world                              |\n|2    |Everyone thinks of changing the world, but no one thinks of changing himself.|\n+-----+-----------------------------------------------------------------------------+\nonly showing top 2 rows\n\n"
     ]
    }
   ],
   "source": [
    "df.show(2,truncate=False) "
   ]
  },
  {
   "cell_type": "code",
   "execution_count": 0,
   "metadata": {
    "application/vnd.databricks.v1+cell": {
     "cellMetadata": {
      "byteLimit": 2048000,
      "rowLimit": 10000
     },
     "inputWidgets": {},
     "nuid": "7281f5c8-31d4-4ee2-a5cc-5a439f636c2b",
     "showTitle": true,
     "title": "Display 2 rows & column values 25 characters"
    }
   },
   "outputs": [
    {
     "output_type": "stream",
     "name": "stdout",
     "output_type": "stream",
     "text": [
      "+-----+-------------------------+\n|Seqno|                    Quote|\n+-----+-------------------------+\n|    1|Be the change that you...|\n|    2|Everyone thinks of cha...|\n+-----+-------------------------+\nonly showing top 2 rows\n\n"
     ]
    }
   ],
   "source": [
    "df.show(2,truncate=25) "
   ]
  },
  {
   "cell_type": "code",
   "execution_count": 0,
   "metadata": {
    "application/vnd.databricks.v1+cell": {
     "cellMetadata": {
      "byteLimit": 2048000,
      "rowLimit": 10000
     },
     "inputWidgets": {},
     "nuid": "3773c503-45c4-491c-9e62-cff0b100d23f",
     "showTitle": true,
     "title": "Display DataFrame rows & columns vertically"
    }
   },
   "outputs": [
    {
     "output_type": "stream",
     "name": "stdout",
     "output_type": "stream",
     "text": [
      "-RECORD 0--------------------------\n Seqno | 1                         \n Quote | Be the change that you... \n-RECORD 1--------------------------\n Seqno | 2                         \n Quote | Everyone thinks of cha... \n-RECORD 2--------------------------\n Seqno | 3                         \n Quote | The purpose of our liv... \n-RECORD 3--------------------------\n Seqno | 4                         \n Quote | Be cool.                  \n\n"
     ]
    }
   ],
   "source": [
    "df.show(n=4,truncate=25,vertical=True)"
   ]
  },
  {
   "cell_type": "code",
   "execution_count": 0,
   "metadata": {
    "application/vnd.databricks.v1+cell": {
     "cellMetadata": {},
     "inputWidgets": {},
     "nuid": "80622388-850b-4601-ac38-bc41514f9076",
     "showTitle": false,
     "title": ""
    }
   },
   "outputs": [],
   "source": []
  }
 ],
 "metadata": {
  "application/vnd.databricks.v1+notebook": {
   "dashboards": [],
   "language": "python",
   "notebookMetadata": {
    "pythonIndentUnit": 4
   },
   "notebookName": "Day-2 Show()",
   "widgets": {}
  }
 },
 "nbformat": 4,
 "nbformat_minor": 0
}
